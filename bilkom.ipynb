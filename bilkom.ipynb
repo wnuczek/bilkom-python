{
 "cells": [
  {
   "cell_type": "code",
   "execution_count": 3,
   "metadata": {},
   "outputs": [
    {
     "data": {
      "text/plain": [
       "[{'type': 'station',\n",
       "  'id': 'A=1@O=Otwock@X=21264217@Y=52108418@U=51@L=5102637@B=1@p=1710160308@',\n",
       "  'name': 'Otwock',\n",
       "  'arrivalDate': None,\n",
       "  'realArrivalDate': None,\n",
       "  'departureDate': None,\n",
       "  'realDepartureDate': None,\n",
       "  'duration': 0,\n",
       "  'distance': None,\n",
       "  'sequenceIndex': None,\n",
       "  'routeIndex': None,\n",
       "  'platform': None,\n",
       "  'track': None,\n",
       "  'extId': '5102637',\n",
       "  'geoPoint': {'lat': 52.108418, 'lon': 21.264217},\n",
       "  'stopTimeString': \"0'\",\n",
       "  'platformAndTrack': None},\n",
       " {'type': 'station',\n",
       "  'id': 'A=1@O=Otwock Świder@X=21251488@Y=52121183@U=51@L=5103676@B=1@p=1710160308@',\n",
       "  'name': 'Otwock Świder',\n",
       "  'arrivalDate': None,\n",
       "  'realArrivalDate': None,\n",
       "  'departureDate': None,\n",
       "  'realDepartureDate': None,\n",
       "  'duration': 0,\n",
       "  'distance': None,\n",
       "  'sequenceIndex': None,\n",
       "  'routeIndex': None,\n",
       "  'platform': None,\n",
       "  'track': None,\n",
       "  'extId': '5103676',\n",
       "  'geoPoint': {'lat': 52.121183, 'lon': 21.251488},\n",
       "  'stopTimeString': \"0'\",\n",
       "  'platformAndTrack': None},\n",
       " {'type': 'station',\n",
       "  'id': 'A=1@O=Otwock Śródborów@X=21296138@Y=52101128@U=51@L=5103584@B=1@p=1710160308@',\n",
       "  'name': 'Otwock Śródborów',\n",
       "  'arrivalDate': None,\n",
       "  'realArrivalDate': None,\n",
       "  'departureDate': None,\n",
       "  'realDepartureDate': None,\n",
       "  'duration': 0,\n",
       "  'distance': None,\n",
       "  'sequenceIndex': None,\n",
       "  'routeIndex': None,\n",
       "  'platform': None,\n",
       "  'track': None,\n",
       "  'extId': '5103584',\n",
       "  'geoPoint': {'lat': 52.101128, 'lon': 21.296138},\n",
       "  'stopTimeString': \"0'\",\n",
       "  'platformAndTrack': None},\n",
       " {'type': 'station',\n",
       "  'id': 'A=1@O=Słotwiny@X=19839445@Y=51722394@U=51@L=5103468@B=1@p=1710160308@',\n",
       "  'name': 'Słotwiny',\n",
       "  'arrivalDate': None,\n",
       "  'realArrivalDate': None,\n",
       "  'departureDate': None,\n",
       "  'realDepartureDate': None,\n",
       "  'duration': 0,\n",
       "  'distance': None,\n",
       "  'sequenceIndex': None,\n",
       "  'routeIndex': None,\n",
       "  'platform': None,\n",
       "  'track': None,\n",
       "  'extId': '5103468',\n",
       "  'geoPoint': {'lat': 51.722394, 'lon': 19.839445},\n",
       "  'stopTimeString': \"0'\",\n",
       "  'platformAndTrack': None}]"
      ]
     },
     "execution_count": 3,
     "metadata": {},
     "output_type": "execute_result"
    }
   ],
   "source": [
    "from bilkom import Bilkom\n",
    "from datetime import datetime\n",
    "\n",
    "bilkom = Bilkom()\n",
    "\n",
    "stations = bilkom.search_for_stations(\"Otw\")\n",
    "\n",
    "stations"
   ]
  },
  {
   "cell_type": "code",
   "execution_count": null,
   "metadata": {},
   "outputs": [],
   "source": [
    "bilkom.set_station_info(station_name=\"Otwock\")\n",
    "\n",
    "bilkom.get_station_table(date=datetime(2024,3,12))\n",
    "\n",
    "bilkom.station_table"
   ]
  }
 ],
 "metadata": {
  "kernelspec": {
   "display_name": "env",
   "language": "python",
   "name": "python3"
  },
  "language_info": {
   "codemirror_mode": {
    "name": "ipython",
    "version": 3
   },
   "file_extension": ".py",
   "mimetype": "text/x-python",
   "name": "python",
   "nbconvert_exporter": "python",
   "pygments_lexer": "ipython3",
   "version": "3.12.2"
  }
 },
 "nbformat": 4,
 "nbformat_minor": 2
}
